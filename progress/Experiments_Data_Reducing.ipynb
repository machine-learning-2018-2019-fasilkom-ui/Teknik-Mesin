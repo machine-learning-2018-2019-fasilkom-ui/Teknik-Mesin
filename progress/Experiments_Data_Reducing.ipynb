{
 "cells": [
  {
   "cell_type": "markdown",
   "metadata": {},
   "source": [
    "<h3>Using pandas for data processing, numpy, sklearn for split train and test and created package called learn</h3>"
   ]
  },
  {
   "cell_type": "code",
   "execution_count": 10,
   "metadata": {},
   "outputs": [],
   "source": [
    "import pandas as pd\n",
    "import numpy as np\n",
    "from sklearn.model_selection import train_test_split\n",
    "from learn.classifier import KNN\n",
    "from learn.decomposition import PCA\n",
    "from learn.metrics import accuracy"
   ]
  },
  {
   "cell_type": "markdown",
   "metadata": {},
   "source": [
    "<br/>\n",
    "Original data contains 1000 audio tracks with 10 genres (100 tracks each genre) and 50 extracted feature (mfcc, chroma stft and rmse). There are 12 variable for mfcc and stft and 1 variable for rmse (total 25 feature), for each these features we calculated mean and std producing total 50 features. Together with labels/genres/Target, the original data contains 51 columns and 1000 rows."
   ]
  },
  {
   "cell_type": "code",
   "execution_count": 11,
   "metadata": {},
   "outputs": [
    {
     "name": "stdout",
     "output_type": "stream",
     "text": [
      "(1000, 51)\n"
     ]
    }
   ],
   "source": [
    "df = pd.read_csv('./data/genres.csv')\n",
    "print(df.shape)"
   ]
  },
  {
   "cell_type": "code",
   "execution_count": 12,
   "metadata": {},
   "outputs": [
    {
     "data": {
      "text/plain": [
       "array(['blues', 'classical', 'country', 'disco', 'hiphop', 'jazz',\n",
       "       'metal', 'pop', 'reggae', 'rock'], dtype=object)"
      ]
     },
     "execution_count": 12,
     "metadata": {},
     "output_type": "execute_result"
    }
   ],
   "source": [
    "df['Target'].unique()"
   ]
  },
  {
   "cell_type": "code",
   "execution_count": 13,
   "metadata": {},
   "outputs": [
    {
     "data": {
      "text/plain": [
       "Index(['Target', 'chroma_stft_mean_1', 'chroma_stft_mean_10',\n",
       "       'chroma_stft_mean_11', 'chroma_stft_mean_12', 'chroma_stft_mean_2',\n",
       "       'chroma_stft_mean_3', 'chroma_stft_mean_4', 'chroma_stft_mean_5',\n",
       "       'chroma_stft_mean_6', 'chroma_stft_mean_7', 'chroma_stft_mean_8',\n",
       "       'chroma_stft_mean_9', 'chroma_stft_std_1', 'chroma_stft_std_10',\n",
       "       'chroma_stft_std_11', 'chroma_stft_std_12', 'chroma_stft_std_2',\n",
       "       'chroma_stft_std_3', 'chroma_stft_std_4', 'chroma_stft_std_5',\n",
       "       'chroma_stft_std_6', 'chroma_stft_std_7', 'chroma_stft_std_8',\n",
       "       'chroma_stft_std_9', 'mfcc_mean_1', 'mfcc_mean_10', 'mfcc_mean_11',\n",
       "       'mfcc_mean_12', 'mfcc_mean_2', 'mfcc_mean_3', 'mfcc_mean_4',\n",
       "       'mfcc_mean_5', 'mfcc_mean_6', 'mfcc_mean_7', 'mfcc_mean_8',\n",
       "       'mfcc_mean_9', 'mfcc_std_1', 'mfcc_std_10', 'mfcc_std_11',\n",
       "       'mfcc_std_12', 'mfcc_std_2', 'mfcc_std_3', 'mfcc_std_4', 'mfcc_std_5',\n",
       "       'mfcc_std_6', 'mfcc_std_7', 'mfcc_std_8', 'mfcc_std_9', 'rmse_mean_1',\n",
       "       'rmse_std_1'],\n",
       "      dtype='object')"
      ]
     },
     "execution_count": 13,
     "metadata": {},
     "output_type": "execute_result"
    }
   ],
   "source": [
    "df.columns"
   ]
  },
  {
   "cell_type": "markdown",
   "metadata": {},
   "source": [
    "<br/>\n",
    "We want to get best combination of genres, because using all genres produce bad accuracy. For each combination of genres, we tested the accuracy. Accuracy calculated with KNN classifier, but before fit to model, we transform the data with PCA. Transformed data contains only 5 columns/features."
   ]
  },
  {
   "cell_type": "code",
   "execution_count": 14,
   "metadata": {},
   "outputs": [],
   "source": [
    "def test_accuracies(genres):\n",
    "    df_selected = df[df['Target'].isin(genres)]\n",
    "    X = df_selected.drop(columns=\"Target\")\n",
    "    y = df_selected[\"Target\"]\n",
    "    X_train, X_test, y_train, y_test = train_test_split(X, y, test_size=0.3, random_state=42)\n",
    "    \n",
    "    pca = PCA(n_components=5)\n",
    "    X_train = pca.fit_transform(X_train)\n",
    "    X_test = pca.transform(X_test)\n",
    "    \n",
    "    clf = KNN(k=len(genres))\n",
    "    clf.fit(X_train, y_train)\n",
    "    y_pred = clf.predict(X_test)\n",
    "    acc = round(accuracy(y_test, y_pred) * 100, 3)\n",
    "    print(\"Accuracy : {0}%,\\tgenres : {1}\".format(acc, \", \".join(genres)))"
   ]
  },
  {
   "cell_type": "markdown",
   "metadata": {},
   "source": [
    "<br/>\n",
    "Experiments for testing each combination of genres"
   ]
  },
  {
   "cell_type": "code",
   "execution_count": 15,
   "metadata": {},
   "outputs": [],
   "source": [
    "all_genres = np.array([\n",
    "    'blues', \n",
    "    'classical', \n",
    "    'country', \n",
    "    'disco', \n",
    "    'hiphop', \n",
    "    'jazz',\n",
    "    'metal', \n",
    "    'pop', \n",
    "    'reggae', \n",
    "    'rock'\n",
    "])"
   ]
  },
  {
   "cell_type": "code",
   "execution_count": 16,
   "metadata": {},
   "outputs": [
    {
     "name": "stdout",
     "output_type": "stream",
     "text": [
      "Accuracy : 43.667%,\tgenres : blues, classical, country, disco, hiphop, jazz, metal, pop, reggae, rock\n",
      "Accuracy : 46.296%,\tgenres : blues, classical, country, disco, hiphop, jazz, metal, pop, reggae\n",
      "Accuracy : 57.083%,\tgenres : blues, classical, country, disco, hiphop, jazz, metal, pop\n",
      "Accuracy : 56.667%,\tgenres : blues, classical, country, disco, hiphop, jazz, metal\n",
      "Accuracy : 53.889%,\tgenres : blues, classical, country, disco, hiphop, jazz\n",
      "Accuracy : 60.556%,\tgenres : blues, classical, country, disco, jazz, metal\n",
      "Accuracy : 76.0%,\tgenres : classical, country, hiphop, jazz, metal\n",
      "Accuracy : 71.111%,\tgenres : blues, classical, country, jazz, metal, pop\n",
      "Accuracy : 47.222%,\tgenres : disco, hiphop, jazz, pop, reggae, rock\n",
      "Accuracy : 42.381%,\tgenres : country, disco, hiphop, jazz, pop, reggae, rock\n"
     ]
    }
   ],
   "source": [
    "genres_combination = [\n",
    "    list(all_genres[[0, 1, 2, 3, 4, 5, 6, 7, 8, 9]]),\n",
    "    list(all_genres[[0, 1, 2, 3, 4, 5, 6, 7, 8]]),\n",
    "    list(all_genres[[0, 1, 2, 3, 4, 5, 6, 7]]),\n",
    "    list(all_genres[[0, 1, 2, 3, 4, 5, 6]]),\n",
    "    list(all_genres[[0, 1, 2, 3, 4, 5]]),\n",
    "    list(all_genres[[0, 1, 2, 3, 5, 6]]),\n",
    "    list(all_genres[[1, 2, 4, 5, 6]]),\n",
    "    list(all_genres[[0, 1, 2, 5, 6, 7]]),\n",
    "    list(all_genres[[3, 4, 5, 7, 8, 9]]),\n",
    "    list(all_genres[[2, 3, 4, 5, 7, 8, 9]]),\n",
    "]\n",
    "\n",
    "for genre in genres_combination:\n",
    "    test_accuracies(genre)"
   ]
  },
  {
   "cell_type": "markdown",
   "metadata": {},
   "source": [
    "<br/>\n",
    "Best accuracy is when only using classical, country, hiphop, jazz, metal "
   ]
  },
  {
   "cell_type": "code",
   "execution_count": 17,
   "metadata": {},
   "outputs": [
    {
     "data": {
      "text/plain": [
       "(500, 51)"
      ]
     },
     "execution_count": 17,
     "metadata": {},
     "output_type": "execute_result"
    }
   ],
   "source": [
    "df_final = df[df['Target'].isin(['classical', 'country', 'hiphop', 'jazz', 'metal'])]\n",
    "df_final.shape"
   ]
  },
  {
   "cell_type": "code",
   "execution_count": 18,
   "metadata": {},
   "outputs": [],
   "source": [
    "df_final.to_csv('./data/final_genres.csv', index=False)"
   ]
  },
  {
   "cell_type": "code",
   "execution_count": null,
   "metadata": {},
   "outputs": [],
   "source": []
  }
 ],
 "metadata": {
  "kernelspec": {
   "display_name": "Python 3",
   "language": "python",
   "name": "python3"
  },
  "language_info": {
   "codemirror_mode": {
    "name": "ipython",
    "version": 3
   },
   "file_extension": ".py",
   "mimetype": "text/x-python",
   "name": "python",
   "nbconvert_exporter": "python",
   "pygments_lexer": "ipython3",
   "version": "3.6.8"
  }
 },
 "nbformat": 4,
 "nbformat_minor": 2
}
