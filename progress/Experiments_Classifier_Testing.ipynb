{
 "cells": [
  {
   "cell_type": "code",
   "execution_count": 1,
   "metadata": {},
   "outputs": [],
   "source": [
    "import pandas as pd\n",
    "import numpy as np\n",
    "from sklearn.model_selection import train_test_split\n",
    "from sklearn.ensemble import RandomForestClassifier\n",
    "from sklearn.tree import DecisionTreeClassifier\n",
    "from sklearn.neighbors import KNeighborsClassifier\n",
    "from learn.classifier import DT, KNN, RandomForest\n",
    "from learn.metrics import accuracy, confusion_matrix"
   ]
  },
  {
   "cell_type": "code",
   "execution_count": 2,
   "metadata": {},
   "outputs": [
    {
     "name": "stdout",
     "output_type": "stream",
     "text": [
      "(500, 51)\n"
     ]
    },
    {
     "data": {
      "text/html": [
       "<div>\n",
       "<style scoped>\n",
       "    .dataframe tbody tr th:only-of-type {\n",
       "        vertical-align: middle;\n",
       "    }\n",
       "\n",
       "    .dataframe tbody tr th {\n",
       "        vertical-align: top;\n",
       "    }\n",
       "\n",
       "    .dataframe thead th {\n",
       "        text-align: right;\n",
       "    }\n",
       "</style>\n",
       "<table border=\"1\" class=\"dataframe\">\n",
       "  <thead>\n",
       "    <tr style=\"text-align: right;\">\n",
       "      <th></th>\n",
       "      <th>Target</th>\n",
       "      <th>chroma_stft_mean_1</th>\n",
       "      <th>chroma_stft_mean_10</th>\n",
       "      <th>chroma_stft_mean_11</th>\n",
       "      <th>chroma_stft_mean_12</th>\n",
       "      <th>chroma_stft_mean_2</th>\n",
       "      <th>chroma_stft_mean_3</th>\n",
       "      <th>chroma_stft_mean_4</th>\n",
       "      <th>chroma_stft_mean_5</th>\n",
       "      <th>chroma_stft_mean_6</th>\n",
       "      <th>...</th>\n",
       "      <th>mfcc_std_2</th>\n",
       "      <th>mfcc_std_3</th>\n",
       "      <th>mfcc_std_4</th>\n",
       "      <th>mfcc_std_5</th>\n",
       "      <th>mfcc_std_6</th>\n",
       "      <th>mfcc_std_7</th>\n",
       "      <th>mfcc_std_8</th>\n",
       "      <th>mfcc_std_9</th>\n",
       "      <th>rmse_mean_1</th>\n",
       "      <th>rmse_std_1</th>\n",
       "    </tr>\n",
       "  </thead>\n",
       "  <tbody>\n",
       "    <tr>\n",
       "      <th>0</th>\n",
       "      <td>classical</td>\n",
       "      <td>0.124398</td>\n",
       "      <td>0.321564</td>\n",
       "      <td>0.146449</td>\n",
       "      <td>0.312650</td>\n",
       "      <td>0.297825</td>\n",
       "      <td>0.411158</td>\n",
       "      <td>0.206060</td>\n",
       "      <td>0.340240</td>\n",
       "      <td>0.159909</td>\n",
       "      <td>...</td>\n",
       "      <td>13.754662</td>\n",
       "      <td>15.204769</td>\n",
       "      <td>13.002200</td>\n",
       "      <td>8.452141</td>\n",
       "      <td>8.637547</td>\n",
       "      <td>10.714485</td>\n",
       "      <td>8.117540</td>\n",
       "      <td>8.694667</td>\n",
       "      <td>0.036255</td>\n",
       "      <td>0.014860</td>\n",
       "    </tr>\n",
       "    <tr>\n",
       "      <th>1</th>\n",
       "      <td>classical</td>\n",
       "      <td>0.163998</td>\n",
       "      <td>0.176087</td>\n",
       "      <td>0.217041</td>\n",
       "      <td>0.468400</td>\n",
       "      <td>0.240299</td>\n",
       "      <td>0.388455</td>\n",
       "      <td>0.153389</td>\n",
       "      <td>0.147619</td>\n",
       "      <td>0.118200</td>\n",
       "      <td>...</td>\n",
       "      <td>18.254653</td>\n",
       "      <td>13.690039</td>\n",
       "      <td>12.309498</td>\n",
       "      <td>11.403011</td>\n",
       "      <td>11.812307</td>\n",
       "      <td>11.098268</td>\n",
       "      <td>9.067100</td>\n",
       "      <td>8.759368</td>\n",
       "      <td>0.030628</td>\n",
       "      <td>0.012692</td>\n",
       "    </tr>\n",
       "    <tr>\n",
       "      <th>2</th>\n",
       "      <td>classical</td>\n",
       "      <td>0.197351</td>\n",
       "      <td>0.286690</td>\n",
       "      <td>0.178152</td>\n",
       "      <td>0.460257</td>\n",
       "      <td>0.423289</td>\n",
       "      <td>0.361857</td>\n",
       "      <td>0.232140</td>\n",
       "      <td>0.392983</td>\n",
       "      <td>0.146053</td>\n",
       "      <td>...</td>\n",
       "      <td>14.050104</td>\n",
       "      <td>12.320599</td>\n",
       "      <td>11.658730</td>\n",
       "      <td>7.176022</td>\n",
       "      <td>9.036495</td>\n",
       "      <td>8.918298</td>\n",
       "      <td>7.712881</td>\n",
       "      <td>7.130923</td>\n",
       "      <td>0.043869</td>\n",
       "      <td>0.013880</td>\n",
       "    </tr>\n",
       "    <tr>\n",
       "      <th>3</th>\n",
       "      <td>classical</td>\n",
       "      <td>0.334221</td>\n",
       "      <td>0.200719</td>\n",
       "      <td>0.167926</td>\n",
       "      <td>0.202627</td>\n",
       "      <td>0.139895</td>\n",
       "      <td>0.348492</td>\n",
       "      <td>0.253649</td>\n",
       "      <td>0.260229</td>\n",
       "      <td>0.266748</td>\n",
       "      <td>...</td>\n",
       "      <td>17.603713</td>\n",
       "      <td>21.511297</td>\n",
       "      <td>11.291489</td>\n",
       "      <td>11.453227</td>\n",
       "      <td>10.807599</td>\n",
       "      <td>8.537981</td>\n",
       "      <td>10.013286</td>\n",
       "      <td>9.646251</td>\n",
       "      <td>0.029450</td>\n",
       "      <td>0.018888</td>\n",
       "    </tr>\n",
       "    <tr>\n",
       "      <th>4</th>\n",
       "      <td>classical</td>\n",
       "      <td>0.319240</td>\n",
       "      <td>0.309454</td>\n",
       "      <td>0.182653</td>\n",
       "      <td>0.315585</td>\n",
       "      <td>0.141492</td>\n",
       "      <td>0.248884</td>\n",
       "      <td>0.128845</td>\n",
       "      <td>0.352041</td>\n",
       "      <td>0.232046</td>\n",
       "      <td>...</td>\n",
       "      <td>14.853837</td>\n",
       "      <td>11.946413</td>\n",
       "      <td>8.000764</td>\n",
       "      <td>8.721288</td>\n",
       "      <td>7.653882</td>\n",
       "      <td>7.515650</td>\n",
       "      <td>10.428358</td>\n",
       "      <td>9.820378</td>\n",
       "      <td>0.042300</td>\n",
       "      <td>0.014464</td>\n",
       "    </tr>\n",
       "  </tbody>\n",
       "</table>\n",
       "<p>5 rows × 51 columns</p>\n",
       "</div>"
      ],
      "text/plain": [
       "      Target  chroma_stft_mean_1  chroma_stft_mean_10  chroma_stft_mean_11  \\\n",
       "0  classical            0.124398             0.321564             0.146449   \n",
       "1  classical            0.163998             0.176087             0.217041   \n",
       "2  classical            0.197351             0.286690             0.178152   \n",
       "3  classical            0.334221             0.200719             0.167926   \n",
       "4  classical            0.319240             0.309454             0.182653   \n",
       "\n",
       "   chroma_stft_mean_12  chroma_stft_mean_2  chroma_stft_mean_3  \\\n",
       "0             0.312650            0.297825            0.411158   \n",
       "1             0.468400            0.240299            0.388455   \n",
       "2             0.460257            0.423289            0.361857   \n",
       "3             0.202627            0.139895            0.348492   \n",
       "4             0.315585            0.141492            0.248884   \n",
       "\n",
       "   chroma_stft_mean_4  chroma_stft_mean_5  chroma_stft_mean_6  ...  \\\n",
       "0            0.206060            0.340240            0.159909  ...   \n",
       "1            0.153389            0.147619            0.118200  ...   \n",
       "2            0.232140            0.392983            0.146053  ...   \n",
       "3            0.253649            0.260229            0.266748  ...   \n",
       "4            0.128845            0.352041            0.232046  ...   \n",
       "\n",
       "   mfcc_std_2  mfcc_std_3  mfcc_std_4  mfcc_std_5  mfcc_std_6  mfcc_std_7  \\\n",
       "0   13.754662   15.204769   13.002200    8.452141    8.637547   10.714485   \n",
       "1   18.254653   13.690039   12.309498   11.403011   11.812307   11.098268   \n",
       "2   14.050104   12.320599   11.658730    7.176022    9.036495    8.918298   \n",
       "3   17.603713   21.511297   11.291489   11.453227   10.807599    8.537981   \n",
       "4   14.853837   11.946413    8.000764    8.721288    7.653882    7.515650   \n",
       "\n",
       "   mfcc_std_8  mfcc_std_9  rmse_mean_1  rmse_std_1  \n",
       "0    8.117540    8.694667     0.036255    0.014860  \n",
       "1    9.067100    8.759368     0.030628    0.012692  \n",
       "2    7.712881    7.130923     0.043869    0.013880  \n",
       "3   10.013286    9.646251     0.029450    0.018888  \n",
       "4   10.428358    9.820378     0.042300    0.014464  \n",
       "\n",
       "[5 rows x 51 columns]"
      ]
     },
     "execution_count": 2,
     "metadata": {},
     "output_type": "execute_result"
    }
   ],
   "source": [
    "df = pd.read_csv('./data/final_genres.csv')\n",
    "print(df.shape)\n",
    "df.head()"
   ]
  },
  {
   "cell_type": "code",
   "execution_count": 3,
   "metadata": {},
   "outputs": [],
   "source": [
    "def get_ten_fold_cv(df, label):\n",
    "    k = 10\n",
    "    m = len(df)\n",
    "    t = m // k\n",
    "    validations = []\n",
    "    for i in range(10):\n",
    "        df = df.sample(frac=1).reset_index(drop=True)\n",
    "        train_indexes = [_ for _ in range(t*i)] + [_ for _ in range(t*(i+1), m)]\n",
    "        test_indexes = [_ for _ in range(t*i, t*(i+1))]\n",
    "        X = df.drop(columns=label)\n",
    "        y = df[label]\n",
    "        X_train = X.iloc[train_indexes, :]\n",
    "        X_test = X.iloc[test_indexes, :]\n",
    "        y_train = y.iloc[train_indexes]\n",
    "        y_test = y.iloc[test_indexes]\n",
    "        validations.append((X_train, X_test, y_train, y_test))\n",
    "    return validations"
   ]
  },
  {
   "cell_type": "code",
   "execution_count": 4,
   "metadata": {},
   "outputs": [],
   "source": [
    "def mean_accuracy(clf_name, df, label):\n",
    "    clfs = {\n",
    "        'dt': DT(), \n",
    "        'dtt': DecisionTreeClassifier(),\n",
    "        'knn': KNN(k=5),\n",
    "        'knnn': KNeighborsClassifier(n_neighbors=5),\n",
    "        'rf': RandomForest(n_estimators=100), \n",
    "        'rff':RandomForestClassifier(n_estimators=100)\n",
    "    }\n",
    "    acc = 0\n",
    "    X = df.drop(columns=label)\n",
    "    y = df[label]\n",
    "    k = 10\n",
    "    for i in range(k):\n",
    "        clf = clfs[clf_name]\n",
    "        X_train, X_test, y_train, y_test = train_test_split(X, y, test_size=0.3, random_state=42)\n",
    "        clf.fit(X_train, y_train)\n",
    "        acc += accuracy(y_test, clf.predict(X_test))\n",
    "    acc = acc/k * 100\n",
    "    return (\"Accuracy : {0}%\".format(round(acc, 3)))"
   ]
  },
  {
   "cell_type": "code",
   "execution_count": 5,
   "metadata": {},
   "outputs": [
    {
     "data": {
      "text/plain": [
       "'Accuracy : 71.667%'"
      ]
     },
     "execution_count": 5,
     "metadata": {},
     "output_type": "execute_result"
    }
   ],
   "source": [
    "mean_accuracy('dt', df, 'Target')"
   ]
  },
  {
   "cell_type": "code",
   "execution_count": 6,
   "metadata": {},
   "outputs": [
    {
     "data": {
      "text/plain": [
       "'Accuracy : 71.4%'"
      ]
     },
     "execution_count": 6,
     "metadata": {},
     "output_type": "execute_result"
    }
   ],
   "source": [
    "mean_accuracy('dtt', df, 'Target')"
   ]
  },
  {
   "cell_type": "code",
   "execution_count": 7,
   "metadata": {},
   "outputs": [
    {
     "data": {
      "text/plain": [
       "'Accuracy : 79.333%'"
      ]
     },
     "execution_count": 7,
     "metadata": {},
     "output_type": "execute_result"
    }
   ],
   "source": [
    "mean_accuracy('knn', df, 'Target')"
   ]
  },
  {
   "cell_type": "code",
   "execution_count": 8,
   "metadata": {},
   "outputs": [
    {
     "data": {
      "text/plain": [
       "'Accuracy : 79.333%'"
      ]
     },
     "execution_count": 8,
     "metadata": {},
     "output_type": "execute_result"
    }
   ],
   "source": [
    "mean_accuracy('knnn', df, 'Target')"
   ]
  },
  {
   "cell_type": "code",
   "execution_count": 9,
   "metadata": {},
   "outputs": [
    {
     "data": {
      "text/plain": [
       "'Accuracy : 55.933%'"
      ]
     },
     "execution_count": 9,
     "metadata": {},
     "output_type": "execute_result"
    }
   ],
   "source": [
    "mean_accuracy('rf', df, 'Target')"
   ]
  },
  {
   "cell_type": "code",
   "execution_count": 10,
   "metadata": {},
   "outputs": [
    {
     "data": {
      "text/plain": [
       "'Accuracy : 90.933%'"
      ]
     },
     "execution_count": 10,
     "metadata": {},
     "output_type": "execute_result"
    }
   ],
   "source": [
    "mean_accuracy('rff', df, 'Target')"
   ]
  },
  {
   "cell_type": "code",
   "execution_count": null,
   "metadata": {},
   "outputs": [],
   "source": []
  }
 ],
 "metadata": {
  "kernelspec": {
   "display_name": "Python 3",
   "language": "python",
   "name": "python3"
  },
  "language_info": {
   "codemirror_mode": {
    "name": "ipython",
    "version": 3
   },
   "file_extension": ".py",
   "mimetype": "text/x-python",
   "name": "python",
   "nbconvert_exporter": "python",
   "pygments_lexer": "ipython3",
   "version": "3.6.8"
  }
 },
 "nbformat": 4,
 "nbformat_minor": 2
}
